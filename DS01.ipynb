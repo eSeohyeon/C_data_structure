{
  "nbformat": 4,
  "nbformat_minor": 0,
  "metadata": {
    "colab": {
      "provenance": [],
      "authorship_tag": "ABX9TyMYRYj9edk/gpoIJB8CZZTp",
      "include_colab_link": true
    },
    "kernelspec": {
      "name": "python3",
      "display_name": "Python 3"
    },
    "language_info": {
      "name": "python"
    }
  },
  "cells": [
    {
      "cell_type": "markdown",
      "metadata": {
        "id": "view-in-github",
        "colab_type": "text"
      },
      "source": [
        "<a href=\"https://colab.research.google.com/github/eSeohyeon/C_data_structure/blob/main/DS01.ipynb\" target=\"_parent\"><img src=\"https://colab.research.google.com/assets/colab-badge.svg\" alt=\"Open In Colab\"/></a>"
      ]
    },
    {
      "cell_type": "markdown",
      "source": [
        "# 01 리스트"
      ],
      "metadata": {
        "id": "RS2GnCFX1CnD"
      }
    },
    {
      "cell_type": "code",
      "source": [
        "%%writefile LinkedList.h\n",
        "#ifndef LINKEDLIST_H\n",
        "#define LINKEDLIST_H\n",
        "\n",
        "#include <stdio.h>\n",
        "#include <stdlib.h>\n",
        "\n",
        "typedef int ElementType;\n",
        "\n",
        "typedef struct tagNode{\n",
        "    ElementType data;\n",
        "    struct tagNode* NextNode;\n",
        "} Node\n",
        "\n",
        "#endif"
      ],
      "metadata": {
        "colab": {
          "base_uri": "https://localhost:8080/"
        },
        "id": "qSkUry6q1KhR",
        "outputId": "2ba0ecac-1bd2-460c-9365-50a35e010325"
      },
      "execution_count": 22,
      "outputs": [
        {
          "output_type": "stream",
          "name": "stdout",
          "text": [
            "Overwriting LinkedList.h\n"
          ]
        }
      ]
    },
    {
      "cell_type": "code",
      "source": [
        "%%writefile LinkedList.c\n",
        "#include \"LinkedList.h\"\n",
        "\n",
        "Node* SLL_CreateNode(ElementType NewData);\n",
        "void SLL_DestoryNode(Node* Node);\n",
        "void SLL_AppendNode(Node** Head, Node* NewNode);\n",
        "void SLL_InsertAfter(Node* Current, Node* NewNode);\n",
        "void SLL_InsertNewHead(Node** Head, Node* NewHead);\n",
        "void SLL_RemoveNode(Node** Head, Node* Remove);\n",
        "Node* SLL_GetNodeAt(Node* Head, int Location);\n",
        "int SLL_GetNodeCount(Node* Head);\n",
        "\n",
        "\n",
        "//노드 생성\n",
        "Node* SLL_CreateNode(ElementType NewData){\n",
        "  Node* NewNode = (Node*)malloc(sizeof(Node));\n",
        "\n",
        "  NewNode->Data = NewData; // 데이터 저장\n",
        "  NewNode->NextNode = NULL; // 다음 노드에 대한 포인터 NULL로 초기화\n",
        "\n",
        "  return NewNode; //노드의 주소 반환\n",
        "}\n",
        "\n",
        "//노드 소멸\n",
        "void SLL_DestroyNode(Node* Node){\n",
        "  free(Node);\n",
        "}\n",
        "\n",
        "//노드 추가\n",
        "void SLL_AppendNode(Node** Head, Node* NewNode){\n",
        "  // 헤드 노드가 NULL 이면 새로운 노드가 Head\n",
        "  if((*Head)==NULL){\n",
        "    *Head = NewNode;\n",
        "  }else{\n",
        "    Node* Tail = (*Head);\n",
        "    while(Tail->NextNode !=NNLL){\n",
        "      Tail = Tail ->NextNode;\n",
        "    }\n",
        "    Tail -> NextNode = NewNode;\n",
        "  }\n",
        "}\n",
        "\n",
        "// 노드 삽입\n",
        "void SLL_InsertAfter(Node* Current, Node* NewNode){\n",
        "  NewNode->NextNode = Current->NextNode;\n",
        "  Current->NextNode = NewNode;\n",
        "}\n",
        "\n",
        "void SLL_InsertNewHead(Node** Head, Node* NewHead){\n",
        "  if(Head == NULL){\n",
        "    (*Head) = NewHead;\n",
        "  }\n",
        "  else{\n",
        "    NewHead->NextNode = (*Head);\n",
        "    (*Head) = NewHead;\n",
        "  }\n",
        "}\n",
        "\n",
        "//노드 제거\n",
        "void SLL_RemoveNode(Node** Head, Node* Remove){\n",
        "  if(*Head == Remove){\n",
        "    *Head = Remove -> NextNode;\n",
        "  }\n",
        "  else{\n",
        "    Node* Current = *Head;\n",
        "    while(Current != NULL && Current -> NextNode !=Remove){\n",
        "      Current = Current -> NextNode;\n",
        "    }\n",
        "    if(Current != NULL){\n",
        "      Current -> NextNode = Remove->NextNode;\n",
        "    }\n",
        "  }\n",
        "}\n",
        "\n",
        "//노드 탐색\n",
        "Node* SLL_GetNodeAt(Node* Head, int Location){\n",
        "\n",
        "  Node* Current = Head;\n",
        "  while(Current !=NULL && (--Location)>=0){\n",
        "    Current = Current ->NextNode;\n",
        "  }\n",
        "  return Current;\n",
        "}\n",
        "\n",
        "//노드 개수 세기\n",
        "int SLL_GetNodeCount(Node* Head){\n",
        "  int Count = 0;\n",
        "  Node* Current = Head;\n",
        "  while(Current != NULL){\n",
        "    Current = Current -> NextNode;\n",
        "    Count++;\n",
        "  }\n",
        "  return Count;\n",
        "}"
      ],
      "metadata": {
        "colab": {
          "base_uri": "https://localhost:8080/"
        },
        "id": "LzQT6bHN1pSL",
        "outputId": "908e7931-6106-43e2-d057-96725f05a644"
      },
      "execution_count": 21,
      "outputs": [
        {
          "output_type": "stream",
          "name": "stdout",
          "text": [
            "Overwriting LinkedList.c\n"
          ]
        }
      ]
    },
    {
      "cell_type": "code",
      "source": [
        "%%writefile Test_LinkedList.c\n",
        "\n",
        "int main(void){\n",
        "\n",
        "  int i = 0;\n",
        "  int Count = 0;\n",
        "  Node* List = NULL;\n",
        "  Node* Current = NULL;\n",
        "  Node* NewNode = NULL;\n",
        "\n",
        "  // 노드 5개 추가\n",
        "  for (i =0; i<5; i++){\n",
        "    NewNode = SLL_CreateNode(i);\n",
        "    SLL_AppendNode(&List, NewNode);\n",
        "  }\n",
        "\n",
        "  NewNode = Sll_CreateNode(-1);\n",
        "  SLL_InsertNewHead(&List, NewNode);\n",
        "\n",
        "  NewNode = SLL_CreateNode(-2);\n",
        "  SLL_InsertNewHead(&List, NewNode);\n",
        "\n",
        "  //리스트 출력\n",
        "  Count = SLL_GetNodeCount(List);\n",
        "  for (i = 0; i<Count; i++){\n",
        "    Current = SLL_GetNodeAt(List, i);\n",
        "    printf(\"List[%d] : %d\\n\", i, Current->Data);\n",
        "  }\n",
        "\n",
        "  // 리스트의 세 번째 노드 뒤에 새 노드 삽입\n",
        "  printf(\"\\nInserting 3000 After [2]...\\n\\n\");\n",
        "\n",
        "  Current = SLL_GetNodeAt(List, 2);\n",
        "  NewNode = SLL_CreateNode(3000);\n",
        "\n",
        "  SLL_InsertAfter(Current, NewNode);\n",
        "\n",
        "  //리스트 출력\n",
        "  Count = SLL_GetNodeCount(List);\n",
        "  for (i = 0; i<Count; i++){\n",
        "    Current = SLL_GetNodeAt(List, i);\n",
        "    printf(\"List[%d] : %d\\n\", i, Current->Data);\n",
        "  }\n",
        "\n",
        "  // 모든 노드를 메모리에서 제거\n",
        "  printf(\"\\nDestroyig List..\\n\");\n",
        "\n",
        "  for(i=0; i<Count; i++){\n",
        "    Current = SLL_GetNodeAt(List, 0);\n",
        "    if(Current!=NULL){\n",
        "      SLL_RemoveNode(&List, Current);\n",
        "      SLL_DestroyNode(Current);\n",
        "    }\n",
        "  }\n",
        "  return 0;\n",
        "}\n"
      ],
      "metadata": {
        "colab": {
          "base_uri": "https://localhost:8080/"
        },
        "id": "guQUhRhj1q5a",
        "outputId": "1f67b09c-f30d-45ef-dc7e-9a3155abcb55"
      },
      "execution_count": 20,
      "outputs": [
        {
          "output_type": "stream",
          "name": "stdout",
          "text": [
            "Overwriting Test_LinkedList.c\n"
          ]
        }
      ]
    },
    {
      "cell_type": "code",
      "source": [],
      "metadata": {
        "id": "9tEBHsKSFonj"
      },
      "execution_count": null,
      "outputs": []
    }
  ]
}